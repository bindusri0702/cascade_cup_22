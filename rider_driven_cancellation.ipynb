{
 "cells": [
  {
   "cell_type": "code",
   "execution_count": null,
   "metadata": {},
   "outputs": [],
   "source": [
    "\"\"\"Given the order and rider details as described below, create a model that \n",
    "can predict rider-driven cancellation in advance \n",
    "(i.e. before getting marked as cancelled or delivered)\"\"\""
   ]
  },
  {
   "cell_type": "markdown",
   "metadata": {},
   "source": [
    "train.csv: This file contains one row for each order created in a specific time frame. The columns are:\n",
    "\n",
    "order_id : unique id for each order\n",
    "order_time: time of the creation of order by the client\n",
    "order_date : date of the order\n",
    "allot_time: time of allocation of order to the rider\n",
    "accept_time: time of acceptance of the order by the rider (if available)\n",
    "pickup_time: time of pickup of the order (if available)\n",
    "delivered_time: time of delivery of the order (if available)\n",
    "cancelled_time: time of cancellation of order (if the order was cancelled)\n",
    "cancelled: whether the order was cancelled\n",
    "rider_id: unique id for each rider\n",
    "first_mile_distance: road distance from rider’s location to the pickup location\n",
    "last_mile_distance: road distance from pickup location to the delivery location\n",
    "allotted_orders: total number of orders allotted to the rider in the 30 days before (not including) order_date\n",
    "delivered_orders: total number of orders delivered by the rider in the 30 days before (not including) order_date\n",
    "undelivered_orders: total number of orders allotted to but not delivered by the rider (i.e. cancelled) in the 30 days before (not including) order_date\n",
    "lifetime_order_count: total number of orders delivered by the rider at any time before order_date\n",
    "reassigned_order: whether the order was reassigned to this rider\n",
    "reassignment_method: if the order was reassigned, whether the reassignment was done manually (by the ops team) or automatically\n",
    "reassignment_reason: a more detailed reason for the reassignment\n",
    "session_time: total time the rider had been online on order_date before order_time"
   ]
  },
  {
   "cell_type": "markdown",
   "metadata": {},
   "source": [
    "order time includes order date\n"
   ]
  },
  {
   "cell_type": "code",
   "execution_count": 2,
   "metadata": {
    "_cell_guid": "b1076dfc-b9ad-4769-8c92-a6c4dae69d19",
    "_uuid": "8f2839f25d086af736a60e9eeb907d3b93b6e0e5",
    "execution": {
     "iopub.execute_input": "2022-02-03T12:53:15.328697Z",
     "iopub.status.busy": "2022-02-03T12:53:15.328419Z",
     "iopub.status.idle": "2022-02-03T12:53:15.337252Z",
     "shell.execute_reply": "2022-02-03T12:53:15.336507Z",
     "shell.execute_reply.started": "2022-02-03T12:53:15.328668Z"
    }
   },
   "outputs": [],
   "source": [
    "# This Python 3 environment comes with many helpful analytics libraries installed\n",
    "# It is defined by the kaggle/python Docker image: https://github.com/kaggle/docker-python\n",
    "# For example, here's several helpful packages to load\n",
    "\n",
    "import numpy as np # linear algebra\n",
    "import pandas as pd # data processing, CSV file I/O (e.g. pd.read_csv)\n",
    "\n",
    "# Input data files are available in the read-only \"../input/\" directory\n",
    "# For example, running this (by clicking run or pressing Shift+Enter) will list all files under the input directory\n",
    "\n",
    "import os\n",
    "for dirname, _, filenames in os.walk('/kaggle/input'):\n",
    "    for filename in filenames:\n",
    "        print(os.path.join(dirname, filename))\n",
    "\n",
    "# You can write up to 20GB to the current directory (/kaggle/working/) that gets preserved as output when you create a version using \"Save & Run All\" \n",
    "# You can also write temporary files to /kaggle/temp/, but they won't be saved outside of the current session"
   ]
  },
  {
   "cell_type": "code",
   "execution_count": 3,
   "metadata": {
    "execution": {
     "iopub.execute_input": "2022-02-03T12:53:19.134346Z",
     "iopub.status.busy": "2022-02-03T12:53:19.133657Z",
     "iopub.status.idle": "2022-02-03T12:53:19.202644Z",
     "shell.execute_reply": "2022-02-03T12:53:19.202055Z",
     "shell.execute_reply.started": "2022-02-03T12:53:19.134305Z"
    }
   },
   "outputs": [],
   "source": [
    "ss_df = pd.read_csv('/kaggle/input/cascade-cup-22/sample_submission.csv')\n",
    "ss_df.head()"
   ]
  },
  {
   "cell_type": "code",
   "execution_count": 4,
   "metadata": {
    "execution": {
     "iopub.execute_input": "2022-02-03T12:53:23.853850Z",
     "iopub.status.busy": "2022-02-03T12:53:23.853538Z",
     "iopub.status.idle": "2022-02-03T12:53:26.601086Z",
     "shell.execute_reply": "2022-02-03T12:53:26.600296Z",
     "shell.execute_reply.started": "2022-02-03T12:53:23.853816Z"
    }
   },
   "outputs": [],
   "source": [
    "train_df = pd.read_csv('/kaggle/input/cascade-cup-22/train.csv')\n",
    "train_df.head()"
   ]
  },
  {
   "cell_type": "code",
   "execution_count": 6,
   "metadata": {
    "execution": {
     "iopub.execute_input": "2022-02-03T12:53:34.897701Z",
     "iopub.status.busy": "2022-02-03T12:53:34.897271Z",
     "iopub.status.idle": "2022-02-03T12:53:35.049623Z",
     "shell.execute_reply": "2022-02-03T12:53:35.048841Z",
     "shell.execute_reply.started": "2022-02-03T12:53:34.897667Z"
    }
   },
   "outputs": [],
   "source": [
    "train_df['order_time'] = pd.to_datetime(train_df['order_time'],\n",
    " format = '%Y-%m-%d %H:%M:%S',errors = 'coerce')\n",
    "train_df['allot_time'] = pd.to_datetime(train_df['allot_time'],\n",
    " format = '%Y-%m-%d %H:%M:%S',errors = 'coerce')\n",
    "train_df['accept_time'] = pd.to_datetime(train_df['accept_time'],\n",
    " format = '%Y-%m-%d %H:%M:%S',errors = 'coerce')\n",
    "train_df['pickup_time'] = pd.to_datetime(train_df['pickup_time'],\n",
    " format = '%Y-%m-%d %H:%M:%S',errors = 'coerce')\n",
    "train_df['delivered_time'] = pd.to_datetime(train_df['delivered_time'],\n",
    " format = '%Y-%m-%d %H:%M:%S',errors = 'coerce')"
   ]
  },
  {
   "cell_type": "code",
   "execution_count": 7,
   "metadata": {
    "execution": {
     "iopub.execute_input": "2022-02-03T12:53:41.771312Z",
     "iopub.status.busy": "2022-02-03T12:53:41.771034Z",
     "iopub.status.idle": "2022-02-03T12:53:42.355566Z",
     "shell.execute_reply": "2022-02-03T12:53:42.354696Z",
     "shell.execute_reply.started": "2022-02-03T12:53:41.771285Z"
    }
   },
   "outputs": [],
   "source": [
    "test_df = pd.read_csv('/kaggle/input/cascade-cup-22/test.csv')\n",
    "test_df.head()"
   ]
  },
  {
   "cell_type": "code",
   "execution_count": 43,
   "metadata": {
    "execution": {
     "iopub.execute_input": "2022-02-03T13:10:07.771670Z",
     "iopub.status.busy": "2022-02-03T13:10:07.771351Z",
     "iopub.status.idle": "2022-02-03T13:10:07.778625Z",
     "shell.execute_reply": "2022-02-03T13:10:07.778059Z",
     "shell.execute_reply.started": "2022-02-03T13:10:07.771632Z"
    }
   },
   "outputs": [],
   "source": [
    "to_be_predicted[0,:]"
   ]
  },
  {
   "cell_type": "code",
   "execution_count": 8,
   "metadata": {
    "execution": {
     "iopub.execute_input": "2022-02-03T12:53:46.297094Z",
     "iopub.status.busy": "2022-02-03T12:53:46.296840Z",
     "iopub.status.idle": "2022-02-03T12:53:46.397829Z",
     "shell.execute_reply": "2022-02-03T12:53:46.397053Z",
     "shell.execute_reply.started": "2022-02-03T12:53:46.297068Z"
    }
   },
   "outputs": [],
   "source": [
    "test_df['order_time'] = pd.to_datetime(test_df['order_time'],\n",
    "format = '%Y-%m-%d %H:%M:%S',errors = 'coerce')\n",
    "test_df['allot_time'] = pd.to_datetime(test_df['allot_time'],\n",
    "format = '%Y-%m-%d %H:%M:%S',errors = 'coerce')\n",
    "test_df['accept_time'] = pd.to_datetime(test_df['accept_time'],\n",
    "format = '%Y-%m-%d %H:%M:%S',errors = 'coerce')"
   ]
  },
  {
   "cell_type": "code",
   "execution_count": 11,
   "metadata": {
    "execution": {
     "iopub.execute_input": "2022-02-03T10:56:39.688009Z",
     "iopub.status.busy": "2022-02-03T10:56:39.687253Z",
     "iopub.status.idle": "2022-02-03T10:56:39.695074Z",
     "shell.execute_reply": "2022-02-03T10:56:39.694094Z",
     "shell.execute_reply.started": "2022-02-03T10:56:39.687958Z"
    }
   },
   "outputs": [],
   "source": [
    "print(train_df.iloc[1,:]['accept_time'])\n",
    "print(train_df.iloc[0,:]['accept_time'])\n",
    "print(train_df.iloc[1,:]['accept_time'] - train_df.iloc[0,:]['accept_time'])"
   ]
  },
  {
   "cell_type": "code",
   "execution_count": 12,
   "metadata": {
    "execution": {
     "iopub.execute_input": "2022-02-03T11:00:17.253252Z",
     "iopub.status.busy": "2022-02-03T11:00:17.252387Z",
     "iopub.status.idle": "2022-02-03T11:00:17.259317Z",
     "shell.execute_reply": "2022-02-03T11:00:17.258537Z",
     "shell.execute_reply.started": "2022-02-03T11:00:17.253201Z"
    }
   },
   "outputs": [],
   "source": [
    "train_df.columns"
   ]
  },
  {
   "cell_type": "code",
   "execution_count": 13,
   "metadata": {
    "execution": {
     "iopub.execute_input": "2022-02-03T11:00:26.104370Z",
     "iopub.status.busy": "2022-02-03T11:00:26.103525Z",
     "iopub.status.idle": "2022-02-03T11:00:26.109590Z",
     "shell.execute_reply": "2022-02-03T11:00:26.108798Z",
     "shell.execute_reply.started": "2022-02-03T11:00:26.104330Z"
    }
   },
   "outputs": [],
   "source": [
    "test_df.columns"
   ]
  },
  {
   "cell_type": "code",
   "execution_count": 33,
   "metadata": {
    "execution": {
     "iopub.execute_input": "2022-02-03T13:02:08.697182Z",
     "iopub.status.busy": "2022-02-03T13:02:08.696897Z",
     "iopub.status.idle": "2022-02-03T13:02:08.707301Z",
     "shell.execute_reply": "2022-02-03T13:02:08.706421Z",
     "shell.execute_reply.started": "2022-02-03T13:02:08.697153Z"
    }
   },
   "outputs": [],
   "source": [
    "test = test_df\n",
    "test = test.drop(columns=['order_id','order_date','rider_id',\n",
    "                'undelivered_orders','lifetime_order_count', 'reassignment_method','reassignment_reason', 'reassigned_order'])"
   ]
  },
  {
   "cell_type": "code",
   "execution_count": 9,
   "metadata": {
    "execution": {
     "iopub.execute_input": "2022-02-03T12:53:55.118706Z",
     "iopub.status.busy": "2022-02-03T12:53:55.117796Z",
     "iopub.status.idle": "2022-02-03T12:53:55.122436Z",
     "shell.execute_reply": "2022-02-03T12:53:55.121501Z",
     "shell.execute_reply.started": "2022-02-03T12:53:55.118650Z"
    }
   },
   "outputs": [],
   "source": [
    "data = train_df\n",
    "#X = \n",
    "#y = pd.Series(data[\"target\"], name=\"target\").map({i:v for i, v in enumerate(data[\"target_names\"])})"
   ]
  },
  {
   "cell_type": "code",
   "execution_count": 10,
   "metadata": {
    "execution": {
     "iopub.execute_input": "2022-02-03T12:53:57.433644Z",
     "iopub.status.busy": "2022-02-03T12:53:57.433363Z",
     "iopub.status.idle": "2022-02-03T12:53:57.464682Z",
     "shell.execute_reply": "2022-02-03T12:53:57.463980Z",
     "shell.execute_reply.started": "2022-02-03T12:53:57.433612Z"
    }
   },
   "outputs": [],
   "source": [
    "data = data.drop(columns=['pickup_time','delivered_time','cancelled_time','order_id','order_date','rider_id',\n",
    "                'undelivered_orders','lifetime_order_count', 'reassignment_method','reassignment_reason', 'reassigned_order'])"
   ]
  },
  {
   "cell_type": "code",
   "execution_count": 69,
   "metadata": {
    "execution": {
     "iopub.execute_input": "2022-02-03T12:29:44.299065Z",
     "iopub.status.busy": "2022-02-03T12:29:44.298595Z",
     "iopub.status.idle": "2022-02-03T12:29:44.305634Z",
     "shell.execute_reply": "2022-02-03T12:29:44.304665Z",
     "shell.execute_reply.started": "2022-02-03T12:29:44.299020Z"
    }
   },
   "outputs": [],
   "source": [
    "data.columns"
   ]
  },
  {
   "cell_type": "code",
   "execution_count": 70,
   "metadata": {
    "execution": {
     "iopub.execute_input": "2022-02-03T12:29:47.165933Z",
     "iopub.status.busy": "2022-02-03T12:29:47.165465Z",
     "iopub.status.idle": "2022-02-03T12:29:47.186808Z",
     "shell.execute_reply": "2022-02-03T12:29:47.185982Z",
     "shell.execute_reply.started": "2022-02-03T12:29:47.165890Z"
    }
   },
   "outputs": [],
   "source": [
    "data.count()"
   ]
  },
  {
   "cell_type": "code",
   "execution_count": 11,
   "metadata": {
    "execution": {
     "iopub.execute_input": "2022-02-03T12:54:04.579692Z",
     "iopub.status.busy": "2022-02-03T12:54:04.579260Z",
     "iopub.status.idle": "2022-02-03T12:54:04.612676Z",
     "shell.execute_reply": "2022-02-03T12:54:04.611945Z",
     "shell.execute_reply.started": "2022-02-03T12:54:04.579656Z"
    }
   },
   "outputs": [],
   "source": [
    "data = data[data['accept_time'].notna()]"
   ]
  },
  {
   "cell_type": "code",
   "execution_count": 34,
   "metadata": {
    "execution": {
     "iopub.execute_input": "2022-02-03T13:02:53.219745Z",
     "iopub.status.busy": "2022-02-03T13:02:53.219473Z",
     "iopub.status.idle": "2022-02-03T13:02:53.230537Z",
     "shell.execute_reply": "2022-02-03T13:02:53.229863Z",
     "shell.execute_reply.started": "2022-02-03T13:02:53.219716Z"
    }
   },
   "outputs": [],
   "source": [
    "test = test[test['accept_time'].notna()]"
   ]
  },
  {
   "cell_type": "code",
   "execution_count": 72,
   "metadata": {
    "execution": {
     "iopub.execute_input": "2022-02-03T12:29:55.709105Z",
     "iopub.status.busy": "2022-02-03T12:29:55.708787Z",
     "iopub.status.idle": "2022-02-03T12:29:55.727896Z",
     "shell.execute_reply": "2022-02-03T12:29:55.726938Z",
     "shell.execute_reply.started": "2022-02-03T12:29:55.709066Z"
    }
   },
   "outputs": [],
   "source": [
    "data.count()"
   ]
  },
  {
   "cell_type": "code",
   "execution_count": 12,
   "metadata": {
    "execution": {
     "iopub.execute_input": "2022-02-03T12:54:08.572923Z",
     "iopub.status.busy": "2022-02-03T12:54:08.572601Z",
     "iopub.status.idle": "2022-02-03T12:54:14.869803Z",
     "shell.execute_reply": "2022-02-03T12:54:14.868832Z",
     "shell.execute_reply.started": "2022-02-03T12:54:08.572889Z"
    }
   },
   "outputs": [],
   "source": [
    "data = data.fillna(0)"
   ]
  },
  {
   "cell_type": "code",
   "execution_count": 35,
   "metadata": {
    "execution": {
     "iopub.execute_input": "2022-02-03T13:03:10.834186Z",
     "iopub.status.busy": "2022-02-03T13:03:10.833443Z",
     "iopub.status.idle": "2022-02-03T13:03:12.713274Z",
     "shell.execute_reply": "2022-02-03T13:03:12.712188Z",
     "shell.execute_reply.started": "2022-02-03T13:03:10.834147Z"
    }
   },
   "outputs": [],
   "source": [
    "test = test.fillna(0)"
   ]
  },
  {
   "cell_type": "code",
   "execution_count": 36,
   "metadata": {
    "execution": {
     "iopub.execute_input": "2022-02-03T13:03:41.751056Z",
     "iopub.status.busy": "2022-02-03T13:03:41.750355Z",
     "iopub.status.idle": "2022-02-03T13:03:41.774381Z",
     "shell.execute_reply": "2022-02-03T13:03:41.773452Z",
     "shell.execute_reply.started": "2022-02-03T13:03:41.750992Z"
    }
   },
   "outputs": [],
   "source": [
    "test.count()"
   ]
  },
  {
   "cell_type": "code",
   "execution_count": 76,
   "metadata": {
    "execution": {
     "iopub.execute_input": "2022-02-03T12:30:32.571391Z",
     "iopub.status.busy": "2022-02-03T12:30:32.571013Z",
     "iopub.status.idle": "2022-02-03T12:30:32.591409Z",
     "shell.execute_reply": "2022-02-03T12:30:32.590501Z",
     "shell.execute_reply.started": "2022-02-03T12:30:32.571360Z"
    }
   },
   "outputs": [],
   "source": [
    "data.count()"
   ]
  },
  {
   "cell_type": "code",
   "execution_count": 13,
   "metadata": {
    "execution": {
     "iopub.execute_input": "2022-02-03T12:54:17.282103Z",
     "iopub.status.busy": "2022-02-03T12:54:17.281760Z",
     "iopub.status.idle": "2022-02-03T12:54:17.288619Z",
     "shell.execute_reply": "2022-02-03T12:54:17.287821Z",
     "shell.execute_reply.started": "2022-02-03T12:54:17.282040Z"
    }
   },
   "outputs": [],
   "source": [
    "y = np.array(data['cancelled'])\n",
    "y.shape"
   ]
  },
  {
   "cell_type": "code",
   "execution_count": 14,
   "metadata": {
    "execution": {
     "iopub.execute_input": "2022-02-03T12:54:19.897781Z",
     "iopub.status.busy": "2022-02-03T12:54:19.897204Z",
     "iopub.status.idle": "2022-02-03T12:54:24.609693Z",
     "shell.execute_reply": "2022-02-03T12:54:24.609038Z",
     "shell.execute_reply.started": "2022-02-03T12:54:19.897732Z"
    }
   },
   "outputs": [],
   "source": [
    "X = data.drop(columns=['cancelled']).to_numpy()"
   ]
  },
  {
   "cell_type": "code",
   "execution_count": 37,
   "metadata": {
    "execution": {
     "iopub.execute_input": "2022-02-03T13:04:24.100975Z",
     "iopub.status.busy": "2022-02-03T13:04:24.099609Z",
     "iopub.status.idle": "2022-02-03T13:04:25.899790Z",
     "shell.execute_reply": "2022-02-03T13:04:25.899094Z",
     "shell.execute_reply.started": "2022-02-03T13:04:24.100914Z"
    }
   },
   "outputs": [],
   "source": [
    "test_x = test.to_numpy()"
   ]
  },
  {
   "cell_type": "code",
   "execution_count": 38,
   "metadata": {
    "execution": {
     "iopub.execute_input": "2022-02-03T13:05:26.483594Z",
     "iopub.status.busy": "2022-02-03T13:05:26.483144Z",
     "iopub.status.idle": "2022-02-03T13:05:26.490908Z",
     "shell.execute_reply": "2022-02-03T13:05:26.489292Z",
     "shell.execute_reply.started": "2022-02-03T13:05:26.483557Z"
    }
   },
   "outputs": [],
   "source": [
    "to_be_predicted = test_x[:,3:]\n",
    "to_be_predicted.shape"
   ]
  },
  {
   "cell_type": "code",
   "execution_count": 15,
   "metadata": {
    "execution": {
     "iopub.execute_input": "2022-02-03T12:54:24.611267Z",
     "iopub.status.busy": "2022-02-03T12:54:24.610918Z",
     "iopub.status.idle": "2022-02-03T12:54:24.616550Z",
     "shell.execute_reply": "2022-02-03T12:54:24.615491Z",
     "shell.execute_reply.started": "2022-02-03T12:54:24.611238Z"
    }
   },
   "outputs": [],
   "source": [
    "X = X[:,3:]\n",
    "X.shape"
   ]
  },
  {
   "cell_type": "code",
   "execution_count": 80,
   "metadata": {
    "execution": {
     "iopub.execute_input": "2022-02-03T12:31:44.256554Z",
     "iopub.status.busy": "2022-02-03T12:31:44.256203Z",
     "iopub.status.idle": "2022-02-03T12:31:44.263604Z",
     "shell.execute_reply": "2022-02-03T12:31:44.262662Z",
     "shell.execute_reply.started": "2022-02-03T12:31:44.256517Z"
    }
   },
   "outputs": [],
   "source": [
    "X[0,:]"
   ]
  },
  {
   "cell_type": "code",
   "execution_count": 16,
   "metadata": {
    "execution": {
     "iopub.execute_input": "2022-02-03T12:54:30.612435Z",
     "iopub.status.busy": "2022-02-03T12:54:30.612175Z",
     "iopub.status.idle": "2022-02-03T12:54:31.527423Z",
     "shell.execute_reply": "2022-02-03T12:54:31.526502Z",
     "shell.execute_reply.started": "2022-02-03T12:54:30.612409Z"
    }
   },
   "outputs": [],
   "source": [
    "#import supervised\n",
    "from sklearn.model_selection import train_test_split\n",
    "#from supervised.automl import AutoML"
   ]
  },
  {
   "cell_type": "code",
   "execution_count": 26,
   "metadata": {
    "execution": {
     "iopub.execute_input": "2022-02-03T12:57:39.287761Z",
     "iopub.status.busy": "2022-02-03T12:57:39.287358Z",
     "iopub.status.idle": "2022-02-03T12:57:39.769090Z",
     "shell.execute_reply": "2022-02-03T12:57:39.768275Z",
     "shell.execute_reply.started": "2022-02-03T12:57:39.287730Z"
    }
   },
   "outputs": [],
   "source": [
    "X_train, X_test, y_train, y_test = train_test_split(X, y, test_size=0.11)"
   ]
  },
  {
   "cell_type": "code",
   "execution_count": 82,
   "metadata": {
    "execution": {
     "iopub.execute_input": "2022-02-03T12:32:01.976595Z",
     "iopub.status.busy": "2022-02-03T12:32:01.976302Z",
     "iopub.status.idle": "2022-02-03T12:32:01.982751Z",
     "shell.execute_reply": "2022-02-03T12:32:01.981903Z",
     "shell.execute_reply.started": "2022-02-03T12:32:01.976563Z"
    }
   },
   "outputs": [],
   "source": [
    "print(X_train.shape)\n",
    "print(y_test.shape)"
   ]
  },
  {
   "cell_type": "code",
   "execution_count": 18,
   "metadata": {
    "execution": {
     "iopub.execute_input": "2022-02-03T12:54:38.923623Z",
     "iopub.status.busy": "2022-02-03T12:54:38.923368Z",
     "iopub.status.idle": "2022-02-03T12:54:39.114788Z",
     "shell.execute_reply": "2022-02-03T12:54:39.113938Z",
     "shell.execute_reply.started": "2022-02-03T12:54:38.923597Z"
    }
   },
   "outputs": [],
   "source": [
    "from sklearn.linear_model import LogisticRegression\n",
    "from sklearn.tree import DecisionTreeClassifier\n",
    "from sklearn.ensemble import RandomForestClassifier\n",
    "from sklearn.neighbors import KNeighborsClassifier\n",
    "from sklearn.naive_bayes import GaussianNB\n",
    "from sklearn.svm import SVC"
   ]
  },
  {
   "cell_type": "code",
   "execution_count": 19,
   "metadata": {
    "execution": {
     "iopub.execute_input": "2022-02-03T12:54:41.975751Z",
     "iopub.status.busy": "2022-02-03T12:54:41.975447Z",
     "iopub.status.idle": "2022-02-03T12:54:41.982077Z",
     "shell.execute_reply": "2022-02-03T12:54:41.981112Z",
     "shell.execute_reply.started": "2022-02-03T12:54:41.975717Z"
    }
   },
   "outputs": [],
   "source": [
    "log_reg_params = [{\"C\":0.01}, {\"C\":0.1}, {\"C\":1}, {\"C\":10}]\n",
    "dec_tree_params = [{\"criterion\": \"gini\"}, {\"criterion\": \"entropy\"}]\n",
    "rand_for_params = [{\"criterion\": \"gini\"}, {\"criterion\": \"entropy\"}]\n",
    "kneighbors_params = [{\"n_neighbors\":3}, {\"n_neighbors\":5}]\n",
    "naive_bayes_params = [{}]\n",
    "svc_params = [{\"C\":0.01}, {\"C\":0.1}, {\"C\":1}, {\"C\":10}]"
   ]
  },
  {
   "cell_type": "code",
   "execution_count": 20,
   "metadata": {
    "execution": {
     "iopub.execute_input": "2022-02-03T12:54:45.575276Z",
     "iopub.status.busy": "2022-02-03T12:54:45.574678Z",
     "iopub.status.idle": "2022-02-03T12:54:45.579998Z",
     "shell.execute_reply": "2022-02-03T12:54:45.579138Z",
     "shell.execute_reply.started": "2022-02-03T12:54:45.575228Z"
    }
   },
   "outputs": [],
   "source": [
    "modelclasses = [[\"decision tree\", DecisionTreeClassifier, dec_tree_params]]\n",
    "#\n",
    " #   [\"log regression\", LogisticRegression, log_reg_params],\n",
    "    \n",
    "  #  [\"random forest\", RandomForestClassifier, rand_for_params],\n",
    "   # [\"k neighbors\", KNeighborsClassifier, kneighbors_params],\n",
    "    #[\"naive bayes\", GaussianNB, naive_bayes_params],\n",
    "    #[\"support vector machines\", SVC, svc_params]]"
   ]
  },
  {
   "cell_type": "code",
   "execution_count": 27,
   "metadata": {
    "execution": {
     "iopub.execute_input": "2022-02-03T12:57:47.001534Z",
     "iopub.status.busy": "2022-02-03T12:57:47.001271Z",
     "iopub.status.idle": "2022-02-03T12:57:58.466134Z",
     "shell.execute_reply": "2022-02-03T12:57:58.465259Z",
     "shell.execute_reply.started": "2022-02-03T12:57:47.001507Z"
    }
   },
   "outputs": [],
   "source": [
    "insights = []\n",
    "for modelname, Model, params_list in modelclasses:\n",
    "    for params in params_list:\n",
    "        model = Model(**params)\n",
    "        model.fit(X_train, y_train)\n",
    "        score = model.score(X_test, y_test)\n",
    "        insights.append((modelname, model, params, score))"
   ]
  },
  {
   "cell_type": "code",
   "execution_count": 28,
   "metadata": {
    "execution": {
     "iopub.execute_input": "2022-02-03T12:57:58.468259Z",
     "iopub.status.busy": "2022-02-03T12:57:58.467954Z",
     "iopub.status.idle": "2022-02-03T12:57:58.474889Z",
     "shell.execute_reply": "2022-02-03T12:57:58.473984Z",
     "shell.execute_reply.started": "2022-02-03T12:57:58.468221Z"
    }
   },
   "outputs": [],
   "source": [
    "insights"
   ]
  },
  {
   "cell_type": "code",
   "execution_count": 29,
   "metadata": {
    "execution": {
     "iopub.execute_input": "2022-02-03T12:58:02.663669Z",
     "iopub.status.busy": "2022-02-03T12:58:02.662727Z",
     "iopub.status.idle": "2022-02-03T12:58:02.698640Z",
     "shell.execute_reply": "2022-02-03T12:58:02.697943Z",
     "shell.execute_reply.started": "2022-02-03T12:58:02.663617Z"
    }
   },
   "outputs": [],
   "source": [
    "y_pred = model.predict(X_test)"
   ]
  },
  {
   "cell_type": "code",
   "execution_count": 39,
   "metadata": {
    "execution": {
     "iopub.execute_input": "2022-02-03T13:06:06.570979Z",
     "iopub.status.busy": "2022-02-03T13:06:06.570620Z",
     "iopub.status.idle": "2022-02-03T13:06:06.627799Z",
     "shell.execute_reply": "2022-02-03T13:06:06.626786Z",
     "shell.execute_reply.started": "2022-02-03T13:06:06.570943Z"
    }
   },
   "outputs": [],
   "source": [
    "to_be_submitted = model.predict(to_be_predicted)"
   ]
  },
  {
   "cell_type": "code",
   "execution_count": 40,
   "metadata": {
    "execution": {
     "iopub.execute_input": "2022-02-03T13:06:30.798938Z",
     "iopub.status.busy": "2022-02-03T13:06:30.798319Z",
     "iopub.status.idle": "2022-02-03T13:06:30.804464Z",
     "shell.execute_reply": "2022-02-03T13:06:30.803649Z",
     "shell.execute_reply.started": "2022-02-03T13:06:30.798901Z"
    }
   },
   "outputs": [],
   "source": [
    "len(to_be_submitted)"
   ]
  },
  {
   "cell_type": "code",
   "execution_count": 41,
   "metadata": {
    "execution": {
     "iopub.execute_input": "2022-02-03T13:07:21.065646Z",
     "iopub.status.busy": "2022-02-03T13:07:21.065059Z",
     "iopub.status.idle": "2022-02-03T13:07:21.073840Z",
     "shell.execute_reply": "2022-02-03T13:07:21.072971Z",
     "shell.execute_reply.started": "2022-02-03T13:07:21.065605Z"
    }
   },
   "outputs": [],
   "source": [
    "(test_df['accept_time'].isna()).sum()"
   ]
  },
  {
   "cell_type": "code",
   "execution_count": 44,
   "metadata": {
    "execution": {
     "iopub.execute_input": "2022-02-03T13:12:48.019332Z",
     "iopub.status.busy": "2022-02-03T13:12:48.019034Z",
     "iopub.status.idle": "2022-02-03T13:12:48.042646Z",
     "shell.execute_reply": "2022-02-03T13:12:48.041882Z",
     "shell.execute_reply.started": "2022-02-03T13:12:48.019302Z"
    }
   },
   "outputs": [],
   "source": [
    "\n",
    "o1 = test_df[test_df['accept_time'].notna()]"
   ]
  },
  {
   "cell_type": "code",
   "execution_count": 45,
   "metadata": {
    "collapsed": true,
    "execution": {
     "iopub.execute_input": "2022-02-03T13:12:55.189256Z",
     "iopub.status.busy": "2022-02-03T13:12:55.188569Z",
     "iopub.status.idle": "2022-02-03T13:12:55.210743Z",
     "shell.execute_reply": "2022-02-03T13:12:55.210066Z",
     "shell.execute_reply.started": "2022-02-03T13:12:55.189201Z"
    },
    "jupyter": {
     "outputs_hidden": true
    }
   },
   "outputs": [],
   "source": [
    "o1.head()"
   ]
  },
  {
   "cell_type": "code",
   "execution_count": 48,
   "metadata": {
    "execution": {
     "iopub.execute_input": "2022-02-03T13:14:50.240255Z",
     "iopub.status.busy": "2022-02-03T13:14:50.239973Z",
     "iopub.status.idle": "2022-02-03T13:14:50.261189Z",
     "shell.execute_reply": "2022-02-03T13:14:50.260205Z",
     "shell.execute_reply.started": "2022-02-03T13:14:50.240225Z"
    }
   },
   "outputs": [],
   "source": [
    "o1_list = list(o1['order_id'])\n",
    "c1_list = to_be_submitted"
   ]
  },
  {
   "cell_type": "code",
   "execution_count": 50,
   "metadata": {
    "execution": {
     "iopub.execute_input": "2022-02-03T13:16:05.525246Z",
     "iopub.status.busy": "2022-02-03T13:16:05.524812Z",
     "iopub.status.idle": "2022-02-03T13:16:05.530153Z",
     "shell.execute_reply": "2022-02-03T13:16:05.529149Z",
     "shell.execute_reply.started": "2022-02-03T13:16:05.525198Z"
    }
   },
   "outputs": [],
   "source": [
    "o2 = test_df[test_df['accept_time'].isna()]"
   ]
  },
  {
   "cell_type": "code",
   "execution_count": 52,
   "metadata": {
    "execution": {
     "iopub.execute_input": "2022-02-03T13:17:16.460943Z",
     "iopub.status.busy": "2022-02-03T13:17:16.460394Z",
     "iopub.status.idle": "2022-02-03T13:17:16.466834Z",
     "shell.execute_reply": "2022-02-03T13:17:16.466085Z",
     "shell.execute_reply.started": "2022-02-03T13:17:16.460906Z"
    }
   },
   "outputs": [],
   "source": [
    "o2_list = list(o2['order_id'])\n",
    "c2_list = [1] * len(o2_list)"
   ]
  },
  {
   "cell_type": "code",
   "execution_count": 62,
   "metadata": {
    "execution": {
     "iopub.execute_input": "2022-02-03T13:20:16.372362Z",
     "iopub.status.busy": "2022-02-03T13:20:16.371446Z",
     "iopub.status.idle": "2022-02-03T13:20:16.378404Z",
     "shell.execute_reply": "2022-02-03T13:20:16.377827Z",
     "shell.execute_reply.started": "2022-02-03T13:20:16.372320Z"
    }
   },
   "outputs": [],
   "source": [
    "ord_id_list = o1_list+o2_list\n",
    "cnc_list = c1_list+c2_list"
   ]
  },
  {
   "cell_type": "code",
   "execution_count": 61,
   "metadata": {
    "execution": {
     "iopub.execute_input": "2022-02-03T13:20:09.469958Z",
     "iopub.status.busy": "2022-02-03T13:20:09.469651Z",
     "iopub.status.idle": "2022-02-03T13:20:09.475490Z",
     "shell.execute_reply": "2022-02-03T13:20:09.474501Z",
     "shell.execute_reply.started": "2022-02-03T13:20:09.469923Z"
    }
   },
   "outputs": [],
   "source": [
    "c1_list = c1_list.tolist()\n"
   ]
  },
  {
   "cell_type": "code",
   "execution_count": 63,
   "metadata": {
    "execution": {
     "iopub.execute_input": "2022-02-03T13:21:01.975811Z",
     "iopub.status.busy": "2022-02-03T13:21:01.975335Z",
     "iopub.status.idle": "2022-02-03T13:21:02.194682Z",
     "shell.execute_reply": "2022-02-03T13:21:02.193856Z",
     "shell.execute_reply.started": "2022-02-03T13:21:01.975749Z"
    }
   },
   "outputs": [],
   "source": [
    "cncld_df = pd.DataFrame({'order_id':ord_id_list,'cancelled':cnc_list})\n",
    "from pathlib import Path  \n",
    "filepath = Path('desktop/cascade.csv')  \n",
    "filepath.parent.mkdir(parents=True, exist_ok=True)  \n",
    "cncld_df.to_csv(filepath,index=False) \n"
   ]
  },
  {
   "cell_type": "code",
   "execution_count": null,
   "metadata": {},
   "outputs": [],
   "source": [
    "\n",
    "automl = AutoML(total_time_limit=5*60)\n",
    "automl.fit(X_train, y_train)\n",
    "# Predict\n",
    "y_predicted = automl.predict(X_test)\n",
    "\n",
    "result = pd.DataFrame({\"Predicted\": y_predicted, \"Target\": np.array(y_test)})\n",
    "filtro = result.Predicted == result.Target\n",
    "print(filtro.value_counts(normalize=True))\n",
    "# confusion matrix\n",
    "df = pd.DataFrame(result)\n",
    "confusion_matrix = pd.crosstab(df['Target'], df['Predicted'], rownames=['Target'], colnames=['Predicted'], margins = True)\n",
    "confusion_matrix"
   ]
  },
  {
   "cell_type": "code",
   "execution_count": 7,
   "metadata": {
    "execution": {
     "iopub.execute_input": "2022-02-03T05:24:14.848140Z",
     "iopub.status.busy": "2022-02-03T05:24:14.847634Z",
     "iopub.status.idle": "2022-02-03T05:24:14.981347Z",
     "shell.execute_reply": "2022-02-03T05:24:14.980488Z",
     "shell.execute_reply.started": "2022-02-03T05:24:14.848104Z"
    }
   },
   "outputs": [],
   "source": [
    "train_df.count()"
   ]
  },
  {
   "cell_type": "code",
   "execution_count": 15,
   "metadata": {
    "execution": {
     "iopub.execute_input": "2022-02-03T05:27:06.185767Z",
     "iopub.status.busy": "2022-02-03T05:27:06.185486Z",
     "iopub.status.idle": "2022-02-03T05:27:06.228784Z",
     "shell.execute_reply": "2022-02-03T05:27:06.227943Z",
     "shell.execute_reply.started": "2022-02-03T05:27:06.185732Z"
    }
   },
   "outputs": [],
   "source": [
    "test_df.count()"
   ]
  },
  {
   "cell_type": "code",
   "execution_count": 8,
   "metadata": {
    "execution": {
     "iopub.execute_input": "2022-02-03T05:24:27.390924Z",
     "iopub.status.busy": "2022-02-03T05:24:27.390114Z",
     "iopub.status.idle": "2022-02-03T05:24:27.426663Z",
     "shell.execute_reply": "2022-02-03T05:24:27.425842Z",
     "shell.execute_reply.started": "2022-02-03T05:24:27.390860Z"
    }
   },
   "outputs": [],
   "source": [
    "cncld = train_df.loc[train_df['cancelled'] == 1]"
   ]
  },
  {
   "cell_type": "code",
   "execution_count": 9,
   "metadata": {
    "execution": {
     "iopub.execute_input": "2022-02-03T05:24:30.559555Z",
     "iopub.status.busy": "2022-02-03T05:24:30.559241Z",
     "iopub.status.idle": "2022-02-03T05:24:30.572402Z",
     "shell.execute_reply": "2022-02-03T05:24:30.571621Z",
     "shell.execute_reply.started": "2022-02-03T05:24:30.559527Z"
    }
   },
   "outputs": [],
   "source": [
    "cncld.count()"
   ]
  },
  {
   "cell_type": "code",
   "execution_count": null,
   "metadata": {
    "execution": {
     "iopub.execute_input": "2022-02-02T07:13:59.426359Z",
     "iopub.status.busy": "2022-02-02T07:13:59.426085Z",
     "iopub.status.idle": "2022-02-02T07:13:59.435268Z",
     "shell.execute_reply": "2022-02-02T07:13:59.43408Z",
     "shell.execute_reply.started": "2022-02-02T07:13:59.42633Z"
    }
   },
   "outputs": [],
   "source": [
    "train_df.iloc[389606,:]"
   ]
  },
  {
   "cell_type": "code",
   "execution_count": 11,
   "metadata": {
    "execution": {
     "iopub.execute_input": "2022-02-03T05:26:04.137146Z",
     "iopub.status.busy": "2022-02-03T05:26:04.136791Z",
     "iopub.status.idle": "2022-02-03T05:26:04.205001Z",
     "shell.execute_reply": "2022-02-03T05:26:04.204015Z",
     "shell.execute_reply.started": "2022-02-03T05:26:04.137108Z"
    }
   },
   "outputs": [],
   "source": [
    "cond1_tr = train_df[(train_df['order_time'] <= train_df['allot_time']) & (train_df['allot_time'] <= train_df['accept_time'])]"
   ]
  },
  {
   "cell_type": "code",
   "execution_count": 13,
   "metadata": {
    "execution": {
     "iopub.execute_input": "2022-02-03T05:26:20.713801Z",
     "iopub.status.busy": "2022-02-03T05:26:20.713171Z",
     "iopub.status.idle": "2022-02-03T05:26:20.857784Z",
     "shell.execute_reply": "2022-02-03T05:26:20.857109Z",
     "shell.execute_reply.started": "2022-02-03T05:26:20.713766Z"
    }
   },
   "outputs": [],
   "source": [
    "cond1_tr.count()"
   ]
  },
  {
   "cell_type": "code",
   "execution_count": 12,
   "metadata": {
    "execution": {
     "iopub.execute_input": "2022-02-03T05:26:10.886407Z",
     "iopub.status.busy": "2022-02-03T05:26:10.886118Z",
     "iopub.status.idle": "2022-02-03T05:26:10.907730Z",
     "shell.execute_reply": "2022-02-03T05:26:10.906891Z",
     "shell.execute_reply.started": "2022-02-03T05:26:10.886379Z"
    }
   },
   "outputs": [],
   "source": [
    "cond1_ts = test_df[(test_df['order_time'] <= test_df['allot_time']) & (test_df['allot_time'] <= test_df['accept_time'])]"
   ]
  },
  {
   "cell_type": "code",
   "execution_count": 14,
   "metadata": {
    "collapsed": true,
    "execution": {
     "iopub.execute_input": "2022-02-03T05:26:31.046517Z",
     "iopub.status.busy": "2022-02-03T05:26:31.045802Z",
     "iopub.status.idle": "2022-02-03T05:26:31.091563Z",
     "shell.execute_reply": "2022-02-03T05:26:31.090523Z",
     "shell.execute_reply.started": "2022-02-03T05:26:31.046479Z"
    },
    "jupyter": {
     "outputs_hidden": true
    }
   },
   "outputs": [],
   "source": [
    "cond1_ts.count()"
   ]
  },
  {
   "cell_type": "code",
   "execution_count": 21,
   "metadata": {
    "collapsed": true,
    "execution": {
     "iopub.execute_input": "2022-02-03T05:35:34.773172Z",
     "iopub.status.busy": "2022-02-03T05:35:34.772178Z",
     "iopub.status.idle": "2022-02-03T05:35:34.786501Z",
     "shell.execute_reply": "2022-02-03T05:35:34.785618Z",
     "shell.execute_reply.started": "2022-02-03T05:35:34.773122Z"
    },
    "jupyter": {
     "outputs_hidden": true
    }
   },
   "outputs": [],
   "source": [
    "cond2_ts = test_df[(test_df['allot_time'] > test_df['accept_time']) | (test_df['accept_time'].isna())]\n",
    "cond2_ts.count()"
   ]
  },
  {
   "cell_type": "code",
   "execution_count": null,
   "metadata": {
    "execution": {
     "iopub.execute_input": "2022-02-02T16:46:50.989227Z",
     "iopub.status.busy": "2022-02-02T16:46:50.988755Z",
     "iopub.status.idle": "2022-02-02T16:46:50.993509Z",
     "shell.execute_reply": "2022-02-02T16:46:50.992689Z",
     "shell.execute_reply.started": "2022-02-02T16:46:50.989178Z"
    }
   },
   "outputs": [],
   "source": [
    "cn1 = list(ndf_test2['order_id'])"
   ]
  },
  {
   "cell_type": "code",
   "execution_count": 19,
   "metadata": {
    "collapsed": true,
    "execution": {
     "iopub.execute_input": "2022-02-03T05:33:26.188267Z",
     "iopub.status.busy": "2022-02-03T05:33:26.187477Z",
     "iopub.status.idle": "2022-02-03T05:33:26.217231Z",
     "shell.execute_reply": "2022-02-03T05:33:26.216305Z",
     "shell.execute_reply.started": "2022-02-03T05:33:26.188222Z"
    },
    "jupyter": {
     "outputs_hidden": true
    }
   },
   "outputs": [],
   "source": [
    "cond3_ts = test_df[(test_df['reassignment_method'].notnull()) & (test_df['reassignment_reason'].notnull()) &(test_df['reassigned_order'].notnull())]\n",
    "cond3_ts.count()"
   ]
  },
  {
   "cell_type": "code",
   "execution_count": null,
   "metadata": {
    "execution": {
     "iopub.execute_input": "2022-02-02T15:42:23.680721Z",
     "iopub.status.busy": "2022-02-02T15:42:23.679998Z",
     "iopub.status.idle": "2022-02-02T15:42:23.702954Z",
     "shell.execute_reply": "2022-02-02T15:42:23.70206Z",
     "shell.execute_reply.started": "2022-02-02T15:42:23.68068Z"
    }
   },
   "outputs": [],
   "source": [
    "ndf_test7.head()"
   ]
  },
  {
   "cell_type": "code",
   "execution_count": null,
   "metadata": {
    "execution": {
     "iopub.execute_input": "2022-02-02T15:44:07.493745Z",
     "iopub.status.busy": "2022-02-02T15:44:07.493474Z",
     "iopub.status.idle": "2022-02-02T15:44:07.500846Z",
     "shell.execute_reply": "2022-02-02T15:44:07.500053Z",
     "shell.execute_reply.started": "2022-02-02T15:44:07.493713Z"
    }
   },
   "outputs": [],
   "source": [
    "ndf_test7.iloc[0,:]['reassignment_reason']"
   ]
  },
  {
   "cell_type": "code",
   "execution_count": null,
   "metadata": {
    "execution": {
     "iopub.execute_input": "2022-02-02T14:42:51.128911Z",
     "iopub.status.busy": "2022-02-02T14:42:51.128547Z",
     "iopub.status.idle": "2022-02-02T14:42:51.135464Z",
     "shell.execute_reply": "2022-02-02T14:42:51.134809Z",
     "shell.execute_reply.started": "2022-02-02T14:42:51.128878Z"
    }
   },
   "outputs": [],
   "source": [
    "ndf_test5 = test_df[(test_df['session_time'].isna())]"
   ]
  },
  {
   "cell_type": "code",
   "execution_count": null,
   "metadata": {
    "execution": {
     "iopub.execute_input": "2022-02-02T16:37:01.588858Z",
     "iopub.status.busy": "2022-02-02T16:37:01.588514Z",
     "iopub.status.idle": "2022-02-02T16:37:01.601506Z",
     "shell.execute_reply": "2022-02-02T16:37:01.60038Z",
     "shell.execute_reply.started": "2022-02-02T16:37:01.588825Z"
    }
   },
   "outputs": [],
   "source": [
    "ndf_test8 = test_df[(test_df['session_time'] == 0)]"
   ]
  },
  {
   "cell_type": "code",
   "execution_count": null,
   "metadata": {
    "execution": {
     "iopub.execute_input": "2022-02-02T16:46:24.03919Z",
     "iopub.status.busy": "2022-02-02T16:46:24.038885Z",
     "iopub.status.idle": "2022-02-02T16:46:24.044911Z",
     "shell.execute_reply": "2022-02-02T16:46:24.044006Z",
     "shell.execute_reply.started": "2022-02-02T16:46:24.039159Z"
    }
   },
   "outputs": [],
   "source": [
    "cn3 = list(ndf_test8['session_time'])"
   ]
  },
  {
   "cell_type": "code",
   "execution_count": null,
   "metadata": {
    "execution": {
     "iopub.execute_input": "2022-02-02T16:37:20.470877Z",
     "iopub.status.busy": "2022-02-02T16:37:20.46992Z",
     "iopub.status.idle": "2022-02-02T16:37:20.496256Z",
     "shell.execute_reply": "2022-02-02T16:37:20.495243Z",
     "shell.execute_reply.started": "2022-02-02T16:37:20.470813Z"
    }
   },
   "outputs": [],
   "source": [
    "ndf_test8.head()"
   ]
  },
  {
   "cell_type": "code",
   "execution_count": null,
   "metadata": {},
   "outputs": [],
   "source": [
    "ndf_test6 = test_df[(test_df['undelivered_orders'].where)]"
   ]
  },
  {
   "cell_type": "code",
   "execution_count": null,
   "metadata": {
    "execution": {
     "iopub.execute_input": "2022-02-02T16:47:32.313509Z",
     "iopub.status.busy": "2022-02-02T16:47:32.3132Z",
     "iopub.status.idle": "2022-02-02T16:47:32.320621Z",
     "shell.execute_reply": "2022-02-02T16:47:32.31936Z",
     "shell.execute_reply.started": "2022-02-02T16:47:32.313479Z"
    }
   },
   "outputs": [],
   "source": [
    "ndf_test4 = test_df[(test_df['accept_time'].isna())]\n",
    "cn2 = list(ndf_test4['order_id'])\n",
    "cn1 = cn1 + cn2 + cn3"
   ]
  },
  {
   "cell_type": "code",
   "execution_count": null,
   "metadata": {
    "execution": {
     "iopub.execute_input": "2022-02-02T16:49:01.359281Z",
     "iopub.status.busy": "2022-02-02T16:49:01.359001Z",
     "iopub.status.idle": "2022-02-02T16:49:01.365402Z",
     "shell.execute_reply": "2022-02-02T16:49:01.364682Z",
     "shell.execute_reply.started": "2022-02-02T16:49:01.359252Z"
    }
   },
   "outputs": [],
   "source": [
    "cnd = list(set(cn1))\n",
    "len(cnd)"
   ]
  },
  {
   "cell_type": "code",
   "execution_count": null,
   "metadata": {
    "execution": {
     "iopub.execute_input": "2022-02-02T16:49:22.106056Z",
     "iopub.status.busy": "2022-02-02T16:49:22.105605Z",
     "iopub.status.idle": "2022-02-02T16:49:22.131209Z",
     "shell.execute_reply": "2022-02-02T16:49:22.130553Z",
     "shell.execute_reply.started": "2022-02-02T16:49:22.106012Z"
    }
   },
   "outputs": [],
   "source": [
    "ordl = list(test_df['order_id'])"
   ]
  },
  {
   "cell_type": "code",
   "execution_count": null,
   "metadata": {
    "execution": {
     "iopub.execute_input": "2022-02-02T16:49:28.897521Z",
     "iopub.status.busy": "2022-02-02T16:49:28.897164Z",
     "iopub.status.idle": "2022-02-02T16:49:29.079746Z",
     "shell.execute_reply": "2022-02-02T16:49:29.07889Z",
     "shell.execute_reply.started": "2022-02-02T16:49:28.897485Z"
    }
   },
   "outputs": [],
   "source": [
    "order_id_list = []\n",
    "cancelled_list = []\n",
    "for o in ordl:\n",
    "    if(o in cnd):\n",
    "        order_id_list.append(o)\n",
    "        cancelled_list.append(1)\n",
    "    else:\n",
    "        order_id_list.append(o)\n",
    "        cancelled_list.append(0)"
   ]
  },
  {
   "cell_type": "code",
   "execution_count": null,
   "metadata": {
    "execution": {
     "iopub.execute_input": "2022-02-02T16:49:34.622543Z",
     "iopub.status.busy": "2022-02-02T16:49:34.622006Z",
     "iopub.status.idle": "2022-02-02T16:49:34.741888Z",
     "shell.execute_reply": "2022-02-02T16:49:34.741296Z",
     "shell.execute_reply.started": "2022-02-02T16:49:34.622509Z"
    }
   },
   "outputs": [],
   "source": [
    "cncld_df = pd.DataFrame({'order_id':order_id_list,'cancelled':cancelled_list})"
   ]
  },
  {
   "cell_type": "code",
   "execution_count": null,
   "metadata": {
    "execution": {
     "iopub.execute_input": "2022-02-02T16:49:43.072252Z",
     "iopub.status.busy": "2022-02-02T16:49:43.071747Z",
     "iopub.status.idle": "2022-02-02T16:49:43.315047Z",
     "shell.execute_reply": "2022-02-02T16:49:43.314346Z",
     "shell.execute_reply.started": "2022-02-02T16:49:43.072218Z"
    }
   },
   "outputs": [],
   "source": [
    "cncld_df = pd.DataFrame({'order_id':order_id_list,'cancelled':cancelled_list})\n",
    "from pathlib import Path  \n",
    "filepath = Path('desktop/cascade.csv')  \n",
    "filepath.parent.mkdir(parents=True, exist_ok=True)  \n",
    "cncld_df.to_csv(filepath,index=False) \n"
   ]
  },
  {
   "cell_type": "code",
   "execution_count": null,
   "metadata": {
    "collapsed": true,
    "execution": {
     "iopub.execute_input": "2022-02-02T14:30:21.968528Z",
     "iopub.status.busy": "2022-02-02T14:30:21.968148Z",
     "iopub.status.idle": "2022-02-02T14:30:22.012989Z",
     "shell.execute_reply": "2022-02-02T14:30:22.012366Z",
     "shell.execute_reply.started": "2022-02-02T14:30:21.96848Z"
    },
    "jupyter": {
     "outputs_hidden": true
    }
   },
   "outputs": [],
   "source": [
    "test_df.count()"
   ]
  },
  {
   "cell_type": "code",
   "execution_count": null,
   "metadata": {
    "execution": {
     "iopub.execute_input": "2022-02-02T15:17:19.167416Z",
     "iopub.status.busy": "2022-02-02T15:17:19.166758Z",
     "iopub.status.idle": "2022-02-02T15:17:19.177258Z",
     "shell.execute_reply": "2022-02-02T15:17:19.176456Z",
     "shell.execute_reply.started": "2022-02-02T15:17:19.167373Z"
    }
   },
   "outputs": [],
   "source": [
    "print(ndf_test5.count())\n",
    "#print(ndf_test2.count())"
   ]
  },
  {
   "cell_type": "code",
   "execution_count": null,
   "metadata": {
    "execution": {
     "iopub.execute_input": "2022-02-02T12:13:29.096767Z",
     "iopub.status.busy": "2022-02-02T12:13:29.096484Z",
     "iopub.status.idle": "2022-02-02T12:13:29.105962Z",
     "shell.execute_reply": "2022-02-02T12:13:29.105365Z",
     "shell.execute_reply.started": "2022-02-02T12:13:29.096742Z"
    }
   },
   "outputs": [],
   "source": [
    "ndf2_cncld = ndf2.loc[ndf2['cancelled'] == 1]"
   ]
  },
  {
   "cell_type": "code",
   "execution_count": null,
   "metadata": {
    "execution": {
     "iopub.execute_input": "2022-02-02T12:13:33.984537Z",
     "iopub.status.busy": "2022-02-02T12:13:33.984301Z",
     "iopub.status.idle": "2022-02-02T12:13:34.005696Z",
     "shell.execute_reply": "2022-02-02T12:13:34.004852Z",
     "shell.execute_reply.started": "2022-02-02T12:13:33.984514Z"
    }
   },
   "outputs": [],
   "source": [
    "ndf2_cncld.head()"
   ]
  },
  {
   "cell_type": "code",
   "execution_count": null,
   "metadata": {
    "execution": {
     "iopub.execute_input": "2022-02-02T12:17:32.241766Z",
     "iopub.status.busy": "2022-02-02T12:17:32.241521Z",
     "iopub.status.idle": "2022-02-02T12:17:32.247704Z",
     "shell.execute_reply": "2022-02-02T12:17:32.246808Z",
     "shell.execute_reply.started": "2022-02-02T12:17:32.241739Z"
    }
   },
   "outputs": [],
   "source": [
    "(ndf2_cncld['pickup_time'].isnull()).sum()"
   ]
  },
  {
   "cell_type": "code",
   "execution_count": null,
   "metadata": {
    "execution": {
     "iopub.execute_input": "2022-02-02T12:28:29.772711Z",
     "iopub.status.busy": "2022-02-02T12:28:29.772474Z",
     "iopub.status.idle": "2022-02-02T12:28:29.779132Z",
     "shell.execute_reply": "2022-02-02T12:28:29.778464Z",
     "shell.execute_reply.started": "2022-02-02T12:28:29.772688Z"
    }
   },
   "outputs": [],
   "source": [
    "(train_df['pickup_time'].isnull()).sum()"
   ]
  },
  {
   "cell_type": "code",
   "execution_count": null,
   "metadata": {
    "execution": {
     "iopub.execute_input": "2022-02-02T12:27:39.856141Z",
     "iopub.status.busy": "2022-02-02T12:27:39.855844Z",
     "iopub.status.idle": "2022-02-02T12:27:39.862138Z",
     "shell.execute_reply": "2022-02-02T12:27:39.861321Z",
     "shell.execute_reply.started": "2022-02-02T12:27:39.856111Z"
    }
   },
   "outputs": [],
   "source": [
    "#ndf2_cncld[]\n",
    "ndf2_cnc_pick = ndf2_cncld[ndf2_cncld['pickup_time'].notnull()]"
   ]
  },
  {
   "cell_type": "code",
   "execution_count": null,
   "metadata": {
    "execution": {
     "iopub.execute_input": "2022-02-02T12:27:41.946939Z",
     "iopub.status.busy": "2022-02-02T12:27:41.946666Z",
     "iopub.status.idle": "2022-02-02T12:27:41.957995Z",
     "shell.execute_reply": "2022-02-02T12:27:41.956931Z",
     "shell.execute_reply.started": "2022-02-02T12:27:41.946911Z"
    }
   },
   "outputs": [],
   "source": [
    "ndf2_cnc_pick.count()"
   ]
  },
  {
   "cell_type": "code",
   "execution_count": null,
   "metadata": {
    "execution": {
     "iopub.execute_input": "2022-02-02T12:30:44.708129Z",
     "iopub.status.busy": "2022-02-02T12:30:44.707892Z",
     "iopub.status.idle": "2022-02-02T12:30:44.72862Z",
     "shell.execute_reply": "2022-02-02T12:30:44.727898Z",
     "shell.execute_reply.started": "2022-02-02T12:30:44.708099Z"
    }
   },
   "outputs": [],
   "source": [
    "ndf2_cnc_pick.head()"
   ]
  },
  {
   "cell_type": "code",
   "execution_count": null,
   "metadata": {
    "execution": {
     "iopub.execute_input": "2022-02-02T12:11:51.619082Z",
     "iopub.status.busy": "2022-02-02T12:11:51.618758Z",
     "iopub.status.idle": "2022-02-02T12:11:51.638757Z",
     "shell.execute_reply": "2022-02-02T12:11:51.638227Z",
     "shell.execute_reply.started": "2022-02-02T12:11:51.619058Z"
    }
   },
   "outputs": [],
   "source": [
    "ndf3 = train_df[(train_df['order_time'] == train_df['allot_time'])]\n",
    "#& (train_df['allot_time'] < train_df['accept_time'])"
   ]
  },
  {
   "cell_type": "code",
   "execution_count": null,
   "metadata": {
    "execution": {
     "iopub.execute_input": "2022-02-02T12:12:15.864006Z",
     "iopub.status.busy": "2022-02-02T12:12:15.862908Z",
     "iopub.status.idle": "2022-02-02T12:12:15.888184Z",
     "shell.execute_reply": "2022-02-02T12:12:15.887061Z",
     "shell.execute_reply.started": "2022-02-02T12:12:15.863954Z"
    }
   },
   "outputs": [],
   "source": [
    "ndf3.head()"
   ]
  },
  {
   "cell_type": "code",
   "execution_count": null,
   "metadata": {},
   "outputs": [],
   "source": []
  },
  {
   "cell_type": "markdown",
   "metadata": {},
   "source": [
    "\n"
   ]
  }
 ],
 "metadata": {
  "kernelspec": {
   "display_name": "Python 3",
   "language": "python",
   "name": "python3"
  },
  "language_info": {
   "codemirror_mode": {
    "name": "ipython",
    "version": 3
   },
   "file_extension": ".py",
   "mimetype": "text/x-python",
   "name": "python",
   "nbconvert_exporter": "python",
   "pygments_lexer": "ipython3",
   "version": "3.8.5"
  }
 },
 "nbformat": 4,
 "nbformat_minor": 4
}
